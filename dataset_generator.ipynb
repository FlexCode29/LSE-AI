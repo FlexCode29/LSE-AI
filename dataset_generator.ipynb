{
 "cells": [
  {
   "cell_type": "code",
   "execution_count": 1,
   "metadata": {},
   "outputs": [],
   "source": [
    "import json"
   ]
  },
  {
   "cell_type": "code",
   "execution_count": 40,
   "metadata": {},
   "outputs": [],
   "source": [
    "x = 1\n",
    "y = 1\n",
    "icl_lenght = 11\n",
    "n = 50\n",
    "\n",
    "\n",
    "output = {}\n",
    "str = ''\n",
    "for i in range(n + 1):\n",
    "    if i % 2 == 0:\n",
    "        x += 1\n",
    "    else:\n",
    "        y += 1\n",
    "    for j in range(icl_lenght + 1):\n",
    "        str += f\"Input: {j}, Output:\"\n",
    "        if j < icl_lenght:\n",
    "            str +=  f\" {j * x + y}\\n\"\n",
    "    output[j * x + y] = str\n",
    "    str = ''"
   ]
  },
  {
   "cell_type": "code",
   "execution_count": 41,
   "metadata": {},
   "outputs": [
    {
     "data": {
      "text/plain": [
       "{23: 'Input: 0, Output: 1\\nInput: 1, Output: 3\\nInput: 2, Output: 5\\nInput: 3, Output: 7\\nInput: 4, Output: 9\\nInput: 5, Output: 11\\nInput: 6, Output: 13\\nInput: 7, Output: 15\\nInput: 8, Output: 17\\nInput: 9, Output: 19\\nInput: 10, Output: 21\\nInput: 11, Output:',\n",
       " 24: 'Input: 0, Output: 2\\nInput: 1, Output: 4\\nInput: 2, Output: 6\\nInput: 3, Output: 8\\nInput: 4, Output: 10\\nInput: 5, Output: 12\\nInput: 6, Output: 14\\nInput: 7, Output: 16\\nInput: 8, Output: 18\\nInput: 9, Output: 20\\nInput: 10, Output: 22\\nInput: 11, Output:',\n",
       " 35: 'Input: 0, Output: 2\\nInput: 1, Output: 5\\nInput: 2, Output: 8\\nInput: 3, Output: 11\\nInput: 4, Output: 14\\nInput: 5, Output: 17\\nInput: 6, Output: 20\\nInput: 7, Output: 23\\nInput: 8, Output: 26\\nInput: 9, Output: 29\\nInput: 10, Output: 32\\nInput: 11, Output:',\n",
       " 36: 'Input: 0, Output: 3\\nInput: 1, Output: 6\\nInput: 2, Output: 9\\nInput: 3, Output: 12\\nInput: 4, Output: 15\\nInput: 5, Output: 18\\nInput: 6, Output: 21\\nInput: 7, Output: 24\\nInput: 8, Output: 27\\nInput: 9, Output: 30\\nInput: 10, Output: 33\\nInput: 11, Output:',\n",
       " 47: 'Input: 0, Output: 3\\nInput: 1, Output: 7\\nInput: 2, Output: 11\\nInput: 3, Output: 15\\nInput: 4, Output: 19\\nInput: 5, Output: 23\\nInput: 6, Output: 27\\nInput: 7, Output: 31\\nInput: 8, Output: 35\\nInput: 9, Output: 39\\nInput: 10, Output: 43\\nInput: 11, Output:',\n",
       " 48: 'Input: 0, Output: 4\\nInput: 1, Output: 8\\nInput: 2, Output: 12\\nInput: 3, Output: 16\\nInput: 4, Output: 20\\nInput: 5, Output: 24\\nInput: 6, Output: 28\\nInput: 7, Output: 32\\nInput: 8, Output: 36\\nInput: 9, Output: 40\\nInput: 10, Output: 44\\nInput: 11, Output:',\n",
       " 59: 'Input: 0, Output: 4\\nInput: 1, Output: 9\\nInput: 2, Output: 14\\nInput: 3, Output: 19\\nInput: 4, Output: 24\\nInput: 5, Output: 29\\nInput: 6, Output: 34\\nInput: 7, Output: 39\\nInput: 8, Output: 44\\nInput: 9, Output: 49\\nInput: 10, Output: 54\\nInput: 11, Output:',\n",
       " 60: 'Input: 0, Output: 5\\nInput: 1, Output: 10\\nInput: 2, Output: 15\\nInput: 3, Output: 20\\nInput: 4, Output: 25\\nInput: 5, Output: 30\\nInput: 6, Output: 35\\nInput: 7, Output: 40\\nInput: 8, Output: 45\\nInput: 9, Output: 50\\nInput: 10, Output: 55\\nInput: 11, Output:',\n",
       " 71: 'Input: 0, Output: 5\\nInput: 1, Output: 11\\nInput: 2, Output: 17\\nInput: 3, Output: 23\\nInput: 4, Output: 29\\nInput: 5, Output: 35\\nInput: 6, Output: 41\\nInput: 7, Output: 47\\nInput: 8, Output: 53\\nInput: 9, Output: 59\\nInput: 10, Output: 65\\nInput: 11, Output:',\n",
       " 72: 'Input: 0, Output: 6\\nInput: 1, Output: 12\\nInput: 2, Output: 18\\nInput: 3, Output: 24\\nInput: 4, Output: 30\\nInput: 5, Output: 36\\nInput: 6, Output: 42\\nInput: 7, Output: 48\\nInput: 8, Output: 54\\nInput: 9, Output: 60\\nInput: 10, Output: 66\\nInput: 11, Output:',\n",
       " 83: 'Input: 0, Output: 6\\nInput: 1, Output: 13\\nInput: 2, Output: 20\\nInput: 3, Output: 27\\nInput: 4, Output: 34\\nInput: 5, Output: 41\\nInput: 6, Output: 48\\nInput: 7, Output: 55\\nInput: 8, Output: 62\\nInput: 9, Output: 69\\nInput: 10, Output: 76\\nInput: 11, Output:',\n",
       " 84: 'Input: 0, Output: 7\\nInput: 1, Output: 14\\nInput: 2, Output: 21\\nInput: 3, Output: 28\\nInput: 4, Output: 35\\nInput: 5, Output: 42\\nInput: 6, Output: 49\\nInput: 7, Output: 56\\nInput: 8, Output: 63\\nInput: 9, Output: 70\\nInput: 10, Output: 77\\nInput: 11, Output:',\n",
       " 95: 'Input: 0, Output: 7\\nInput: 1, Output: 15\\nInput: 2, Output: 23\\nInput: 3, Output: 31\\nInput: 4, Output: 39\\nInput: 5, Output: 47\\nInput: 6, Output: 55\\nInput: 7, Output: 63\\nInput: 8, Output: 71\\nInput: 9, Output: 79\\nInput: 10, Output: 87\\nInput: 11, Output:',\n",
       " 96: 'Input: 0, Output: 8\\nInput: 1, Output: 16\\nInput: 2, Output: 24\\nInput: 3, Output: 32\\nInput: 4, Output: 40\\nInput: 5, Output: 48\\nInput: 6, Output: 56\\nInput: 7, Output: 64\\nInput: 8, Output: 72\\nInput: 9, Output: 80\\nInput: 10, Output: 88\\nInput: 11, Output:',\n",
       " 107: 'Input: 0, Output: 8\\nInput: 1, Output: 17\\nInput: 2, Output: 26\\nInput: 3, Output: 35\\nInput: 4, Output: 44\\nInput: 5, Output: 53\\nInput: 6, Output: 62\\nInput: 7, Output: 71\\nInput: 8, Output: 80\\nInput: 9, Output: 89\\nInput: 10, Output: 98\\nInput: 11, Output:',\n",
       " 108: 'Input: 0, Output: 9\\nInput: 1, Output: 18\\nInput: 2, Output: 27\\nInput: 3, Output: 36\\nInput: 4, Output: 45\\nInput: 5, Output: 54\\nInput: 6, Output: 63\\nInput: 7, Output: 72\\nInput: 8, Output: 81\\nInput: 9, Output: 90\\nInput: 10, Output: 99\\nInput: 11, Output:',\n",
       " 119: 'Input: 0, Output: 9\\nInput: 1, Output: 19\\nInput: 2, Output: 29\\nInput: 3, Output: 39\\nInput: 4, Output: 49\\nInput: 5, Output: 59\\nInput: 6, Output: 69\\nInput: 7, Output: 79\\nInput: 8, Output: 89\\nInput: 9, Output: 99\\nInput: 10, Output: 109\\nInput: 11, Output:',\n",
       " 120: 'Input: 0, Output: 10\\nInput: 1, Output: 20\\nInput: 2, Output: 30\\nInput: 3, Output: 40\\nInput: 4, Output: 50\\nInput: 5, Output: 60\\nInput: 6, Output: 70\\nInput: 7, Output: 80\\nInput: 8, Output: 90\\nInput: 9, Output: 100\\nInput: 10, Output: 110\\nInput: 11, Output:',\n",
       " 131: 'Input: 0, Output: 10\\nInput: 1, Output: 21\\nInput: 2, Output: 32\\nInput: 3, Output: 43\\nInput: 4, Output: 54\\nInput: 5, Output: 65\\nInput: 6, Output: 76\\nInput: 7, Output: 87\\nInput: 8, Output: 98\\nInput: 9, Output: 109\\nInput: 10, Output: 120\\nInput: 11, Output:',\n",
       " 132: 'Input: 0, Output: 11\\nInput: 1, Output: 22\\nInput: 2, Output: 33\\nInput: 3, Output: 44\\nInput: 4, Output: 55\\nInput: 5, Output: 66\\nInput: 6, Output: 77\\nInput: 7, Output: 88\\nInput: 8, Output: 99\\nInput: 9, Output: 110\\nInput: 10, Output: 121\\nInput: 11, Output:',\n",
       " 143: 'Input: 0, Output: 11\\nInput: 1, Output: 23\\nInput: 2, Output: 35\\nInput: 3, Output: 47\\nInput: 4, Output: 59\\nInput: 5, Output: 71\\nInput: 6, Output: 83\\nInput: 7, Output: 95\\nInput: 8, Output: 107\\nInput: 9, Output: 119\\nInput: 10, Output: 131\\nInput: 11, Output:',\n",
       " 144: 'Input: 0, Output: 12\\nInput: 1, Output: 24\\nInput: 2, Output: 36\\nInput: 3, Output: 48\\nInput: 4, Output: 60\\nInput: 5, Output: 72\\nInput: 6, Output: 84\\nInput: 7, Output: 96\\nInput: 8, Output: 108\\nInput: 9, Output: 120\\nInput: 10, Output: 132\\nInput: 11, Output:',\n",
       " 155: 'Input: 0, Output: 12\\nInput: 1, Output: 25\\nInput: 2, Output: 38\\nInput: 3, Output: 51\\nInput: 4, Output: 64\\nInput: 5, Output: 77\\nInput: 6, Output: 90\\nInput: 7, Output: 103\\nInput: 8, Output: 116\\nInput: 9, Output: 129\\nInput: 10, Output: 142\\nInput: 11, Output:',\n",
       " 156: 'Input: 0, Output: 13\\nInput: 1, Output: 26\\nInput: 2, Output: 39\\nInput: 3, Output: 52\\nInput: 4, Output: 65\\nInput: 5, Output: 78\\nInput: 6, Output: 91\\nInput: 7, Output: 104\\nInput: 8, Output: 117\\nInput: 9, Output: 130\\nInput: 10, Output: 143\\nInput: 11, Output:',\n",
       " 167: 'Input: 0, Output: 13\\nInput: 1, Output: 27\\nInput: 2, Output: 41\\nInput: 3, Output: 55\\nInput: 4, Output: 69\\nInput: 5, Output: 83\\nInput: 6, Output: 97\\nInput: 7, Output: 111\\nInput: 8, Output: 125\\nInput: 9, Output: 139\\nInput: 10, Output: 153\\nInput: 11, Output:',\n",
       " 168: 'Input: 0, Output: 14\\nInput: 1, Output: 28\\nInput: 2, Output: 42\\nInput: 3, Output: 56\\nInput: 4, Output: 70\\nInput: 5, Output: 84\\nInput: 6, Output: 98\\nInput: 7, Output: 112\\nInput: 8, Output: 126\\nInput: 9, Output: 140\\nInput: 10, Output: 154\\nInput: 11, Output:',\n",
       " 179: 'Input: 0, Output: 14\\nInput: 1, Output: 29\\nInput: 2, Output: 44\\nInput: 3, Output: 59\\nInput: 4, Output: 74\\nInput: 5, Output: 89\\nInput: 6, Output: 104\\nInput: 7, Output: 119\\nInput: 8, Output: 134\\nInput: 9, Output: 149\\nInput: 10, Output: 164\\nInput: 11, Output:',\n",
       " 180: 'Input: 0, Output: 15\\nInput: 1, Output: 30\\nInput: 2, Output: 45\\nInput: 3, Output: 60\\nInput: 4, Output: 75\\nInput: 5, Output: 90\\nInput: 6, Output: 105\\nInput: 7, Output: 120\\nInput: 8, Output: 135\\nInput: 9, Output: 150\\nInput: 10, Output: 165\\nInput: 11, Output:',\n",
       " 191: 'Input: 0, Output: 15\\nInput: 1, Output: 31\\nInput: 2, Output: 47\\nInput: 3, Output: 63\\nInput: 4, Output: 79\\nInput: 5, Output: 95\\nInput: 6, Output: 111\\nInput: 7, Output: 127\\nInput: 8, Output: 143\\nInput: 9, Output: 159\\nInput: 10, Output: 175\\nInput: 11, Output:',\n",
       " 192: 'Input: 0, Output: 16\\nInput: 1, Output: 32\\nInput: 2, Output: 48\\nInput: 3, Output: 64\\nInput: 4, Output: 80\\nInput: 5, Output: 96\\nInput: 6, Output: 112\\nInput: 7, Output: 128\\nInput: 8, Output: 144\\nInput: 9, Output: 160\\nInput: 10, Output: 176\\nInput: 11, Output:',\n",
       " 203: 'Input: 0, Output: 16\\nInput: 1, Output: 33\\nInput: 2, Output: 50\\nInput: 3, Output: 67\\nInput: 4, Output: 84\\nInput: 5, Output: 101\\nInput: 6, Output: 118\\nInput: 7, Output: 135\\nInput: 8, Output: 152\\nInput: 9, Output: 169\\nInput: 10, Output: 186\\nInput: 11, Output:',\n",
       " 204: 'Input: 0, Output: 17\\nInput: 1, Output: 34\\nInput: 2, Output: 51\\nInput: 3, Output: 68\\nInput: 4, Output: 85\\nInput: 5, Output: 102\\nInput: 6, Output: 119\\nInput: 7, Output: 136\\nInput: 8, Output: 153\\nInput: 9, Output: 170\\nInput: 10, Output: 187\\nInput: 11, Output:',\n",
       " 215: 'Input: 0, Output: 17\\nInput: 1, Output: 35\\nInput: 2, Output: 53\\nInput: 3, Output: 71\\nInput: 4, Output: 89\\nInput: 5, Output: 107\\nInput: 6, Output: 125\\nInput: 7, Output: 143\\nInput: 8, Output: 161\\nInput: 9, Output: 179\\nInput: 10, Output: 197\\nInput: 11, Output:',\n",
       " 216: 'Input: 0, Output: 18\\nInput: 1, Output: 36\\nInput: 2, Output: 54\\nInput: 3, Output: 72\\nInput: 4, Output: 90\\nInput: 5, Output: 108\\nInput: 6, Output: 126\\nInput: 7, Output: 144\\nInput: 8, Output: 162\\nInput: 9, Output: 180\\nInput: 10, Output: 198\\nInput: 11, Output:',\n",
       " 227: 'Input: 0, Output: 18\\nInput: 1, Output: 37\\nInput: 2, Output: 56\\nInput: 3, Output: 75\\nInput: 4, Output: 94\\nInput: 5, Output: 113\\nInput: 6, Output: 132\\nInput: 7, Output: 151\\nInput: 8, Output: 170\\nInput: 9, Output: 189\\nInput: 10, Output: 208\\nInput: 11, Output:',\n",
       " 228: 'Input: 0, Output: 19\\nInput: 1, Output: 38\\nInput: 2, Output: 57\\nInput: 3, Output: 76\\nInput: 4, Output: 95\\nInput: 5, Output: 114\\nInput: 6, Output: 133\\nInput: 7, Output: 152\\nInput: 8, Output: 171\\nInput: 9, Output: 190\\nInput: 10, Output: 209\\nInput: 11, Output:',\n",
       " 239: 'Input: 0, Output: 19\\nInput: 1, Output: 39\\nInput: 2, Output: 59\\nInput: 3, Output: 79\\nInput: 4, Output: 99\\nInput: 5, Output: 119\\nInput: 6, Output: 139\\nInput: 7, Output: 159\\nInput: 8, Output: 179\\nInput: 9, Output: 199\\nInput: 10, Output: 219\\nInput: 11, Output:',\n",
       " 240: 'Input: 0, Output: 20\\nInput: 1, Output: 40\\nInput: 2, Output: 60\\nInput: 3, Output: 80\\nInput: 4, Output: 100\\nInput: 5, Output: 120\\nInput: 6, Output: 140\\nInput: 7, Output: 160\\nInput: 8, Output: 180\\nInput: 9, Output: 200\\nInput: 10, Output: 220\\nInput: 11, Output:',\n",
       " 251: 'Input: 0, Output: 20\\nInput: 1, Output: 41\\nInput: 2, Output: 62\\nInput: 3, Output: 83\\nInput: 4, Output: 104\\nInput: 5, Output: 125\\nInput: 6, Output: 146\\nInput: 7, Output: 167\\nInput: 8, Output: 188\\nInput: 9, Output: 209\\nInput: 10, Output: 230\\nInput: 11, Output:',\n",
       " 252: 'Input: 0, Output: 21\\nInput: 1, Output: 42\\nInput: 2, Output: 63\\nInput: 3, Output: 84\\nInput: 4, Output: 105\\nInput: 5, Output: 126\\nInput: 6, Output: 147\\nInput: 7, Output: 168\\nInput: 8, Output: 189\\nInput: 9, Output: 210\\nInput: 10, Output: 231\\nInput: 11, Output:',\n",
       " 263: 'Input: 0, Output: 21\\nInput: 1, Output: 43\\nInput: 2, Output: 65\\nInput: 3, Output: 87\\nInput: 4, Output: 109\\nInput: 5, Output: 131\\nInput: 6, Output: 153\\nInput: 7, Output: 175\\nInput: 8, Output: 197\\nInput: 9, Output: 219\\nInput: 10, Output: 241\\nInput: 11, Output:',\n",
       " 264: 'Input: 0, Output: 22\\nInput: 1, Output: 44\\nInput: 2, Output: 66\\nInput: 3, Output: 88\\nInput: 4, Output: 110\\nInput: 5, Output: 132\\nInput: 6, Output: 154\\nInput: 7, Output: 176\\nInput: 8, Output: 198\\nInput: 9, Output: 220\\nInput: 10, Output: 242\\nInput: 11, Output:',\n",
       " 275: 'Input: 0, Output: 22\\nInput: 1, Output: 45\\nInput: 2, Output: 68\\nInput: 3, Output: 91\\nInput: 4, Output: 114\\nInput: 5, Output: 137\\nInput: 6, Output: 160\\nInput: 7, Output: 183\\nInput: 8, Output: 206\\nInput: 9, Output: 229\\nInput: 10, Output: 252\\nInput: 11, Output:',\n",
       " 276: 'Input: 0, Output: 23\\nInput: 1, Output: 46\\nInput: 2, Output: 69\\nInput: 3, Output: 92\\nInput: 4, Output: 115\\nInput: 5, Output: 138\\nInput: 6, Output: 161\\nInput: 7, Output: 184\\nInput: 8, Output: 207\\nInput: 9, Output: 230\\nInput: 10, Output: 253\\nInput: 11, Output:',\n",
       " 287: 'Input: 0, Output: 23\\nInput: 1, Output: 47\\nInput: 2, Output: 71\\nInput: 3, Output: 95\\nInput: 4, Output: 119\\nInput: 5, Output: 143\\nInput: 6, Output: 167\\nInput: 7, Output: 191\\nInput: 8, Output: 215\\nInput: 9, Output: 239\\nInput: 10, Output: 263\\nInput: 11, Output:',\n",
       " 288: 'Input: 0, Output: 24\\nInput: 1, Output: 48\\nInput: 2, Output: 72\\nInput: 3, Output: 96\\nInput: 4, Output: 120\\nInput: 5, Output: 144\\nInput: 6, Output: 168\\nInput: 7, Output: 192\\nInput: 8, Output: 216\\nInput: 9, Output: 240\\nInput: 10, Output: 264\\nInput: 11, Output:',\n",
       " 299: 'Input: 0, Output: 24\\nInput: 1, Output: 49\\nInput: 2, Output: 74\\nInput: 3, Output: 99\\nInput: 4, Output: 124\\nInput: 5, Output: 149\\nInput: 6, Output: 174\\nInput: 7, Output: 199\\nInput: 8, Output: 224\\nInput: 9, Output: 249\\nInput: 10, Output: 274\\nInput: 11, Output:',\n",
       " 300: 'Input: 0, Output: 25\\nInput: 1, Output: 50\\nInput: 2, Output: 75\\nInput: 3, Output: 100\\nInput: 4, Output: 125\\nInput: 5, Output: 150\\nInput: 6, Output: 175\\nInput: 7, Output: 200\\nInput: 8, Output: 225\\nInput: 9, Output: 250\\nInput: 10, Output: 275\\nInput: 11, Output:',\n",
       " 311: 'Input: 0, Output: 25\\nInput: 1, Output: 51\\nInput: 2, Output: 77\\nInput: 3, Output: 103\\nInput: 4, Output: 129\\nInput: 5, Output: 155\\nInput: 6, Output: 181\\nInput: 7, Output: 207\\nInput: 8, Output: 233\\nInput: 9, Output: 259\\nInput: 10, Output: 285\\nInput: 11, Output:',\n",
       " 312: 'Input: 0, Output: 26\\nInput: 1, Output: 52\\nInput: 2, Output: 78\\nInput: 3, Output: 104\\nInput: 4, Output: 130\\nInput: 5, Output: 156\\nInput: 6, Output: 182\\nInput: 7, Output: 208\\nInput: 8, Output: 234\\nInput: 9, Output: 260\\nInput: 10, Output: 286\\nInput: 11, Output:',\n",
       " 323: 'Input: 0, Output: 26\\nInput: 1, Output: 53\\nInput: 2, Output: 80\\nInput: 3, Output: 107\\nInput: 4, Output: 134\\nInput: 5, Output: 161\\nInput: 6, Output: 188\\nInput: 7, Output: 215\\nInput: 8, Output: 242\\nInput: 9, Output: 269\\nInput: 10, Output: 296\\nInput: 11, Output:'}"
      ]
     },
     "execution_count": 41,
     "metadata": {},
     "output_type": "execute_result"
    }
   ],
   "source": [
    "output"
   ]
  },
  {
   "cell_type": "code",
   "execution_count": 43,
   "metadata": {},
   "outputs": [],
   "source": [
    "with open(\"prompts.json\", \"w\") as file:\n",
    "    json.dump(output, file, indent=2)"
   ]
  }
 ],
 "metadata": {
  "kernelspec": {
   "display_name": "Python 3",
   "language": "python",
   "name": "python3"
  },
  "language_info": {
   "codemirror_mode": {
    "name": "ipython",
    "version": 3
   },
   "file_extension": ".py",
   "mimetype": "text/x-python",
   "name": "python",
   "nbconvert_exporter": "python",
   "pygments_lexer": "ipython3",
   "version": "3.9.16"
  },
  "orig_nbformat": 4,
  "vscode": {
   "interpreter": {
    "hash": "106921d90f89b6856504dd07278735439833a2dd4f333d61b0eb3cac9163fbc6"
   }
  }
 },
 "nbformat": 4,
 "nbformat_minor": 2
}
