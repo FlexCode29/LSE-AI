{
 "cells": [
  {
   "cell_type": "code",
   "execution_count": 1,
   "id": "4b9de48f-c597-40d1-87e7-c28d09f21dc4",
   "metadata": {},
   "outputs": [],
   "source": [
    "import transformer_lens\n",
    "import torch"
   ]
  },
  {
   "cell_type": "code",
   "execution_count": 2,
   "id": "a082b35c-1c4d-429a-a71f-4df51585b258",
   "metadata": {},
   "outputs": [
    {
     "name": "stdout",
     "output_type": "stream",
     "text": [
      "Loaded pretrained model gpt2-small into HookedTransformer\n"
     ]
    }
   ],
   "source": [
    "# Load a model (eg GPT-2 Small)\n",
    "model = transformer_lens.HookedTransformer.from_pretrained(\"gpt2-small\")"
   ]
  },
  {
   "cell_type": "code",
   "execution_count": 80,
   "id": "c524019b-dbcc-4152-9bf4-b47139da27b4",
   "metadata": {},
   "outputs": [],
   "source": [
    " # Load an ICL sequence\n",
    "sequence = \"\"\"Apple revenue has increased by 5% this quarter. // Buy\n",
    "Google missed earning by 10% this quarter. // Sell\n",
    "Toyota has reduced profits by 20% this year. // Buy\n",
    "Ford anticipated its operating profit to improve by 5% this month. // \"\"\"\n",
    "\n",
    "\n",
    "# Run the model and get logits and activations\n",
    "logits, activations = model.run_with_cache(sequence)"
   ]
  },
  {
   "cell_type": "code",
   "execution_count": 86,
   "id": "2bc941a1-8719-48a2-bd13-86e117a78b37",
   "metadata": {},
   "outputs": [],
   "source": [
    "n_tokens = 10\n",
    "top_tokens = list(range(n_tokens))\n",
    "top_tokens_probs = list(range(n_tokens))\n",
    "\n",
    "\n",
    "next_token_logits = logits[0][logits.shape[1 - 1]]\n",
    "\n",
    "for i in range(len(next_token_logits)):\n",
    "    for j in range(n_tokens):\n",
    "        if bool(next_token_logits[i] > next_token_logits[top_tokens[j]]):\n",
    "            top_tokens[j] = i\n",
    "            top_tokens_probs[j] = next_token_logits[top_tokens[j]]\n",
    "            break"
   ]
  },
  {
   "cell_type": "code",
   "execution_count": 89,
   "id": "1be1d638-7613-462d-8151-9ee2f3c4a7fd",
   "metadata": {},
   "outputs": [
    {
     "data": {
      "text/plain": [
       "([338, 468, 6305, 6123, 7119, 5495, 7133, 19650, 7849, 13851],\n",
       " [tensor(13.5712, grad_fn=<SelectBackward0>),\n",
       "  tensor(13.4080, grad_fn=<SelectBackward0>),\n",
       "  tensor(11.4406, grad_fn=<SelectBackward0>),\n",
       "  tensor(10.9813, grad_fn=<SelectBackward0>),\n",
       "  tensor(10.9321, grad_fn=<SelectBackward0>),\n",
       "  tensor(10.4438, grad_fn=<SelectBackward0>),\n",
       "  tensor(10.3146, grad_fn=<SelectBackward0>),\n",
       "  tensor(9.9453, grad_fn=<SelectBackward0>),\n",
       "  tensor(9.7788, grad_fn=<SelectBackward0>),\n",
       "  tensor(9.5893, grad_fn=<SelectBackward0>)])"
      ]
     },
     "execution_count": 89,
     "metadata": {},
     "output_type": "execute_result"
    }
   ],
   "source": [
    "top_tokens, top_tokens_probs"
   ]
  },
  {
   "cell_type": "code",
   "execution_count": 88,
   "id": "ecc72242-7bdd-44cd-b871-64402091e53c",
   "metadata": {},
   "outputs": [
    {
     "data": {
      "text/plain": [
       "\"'s has Watch CEO Pay introduced iPhonejack Music Computer\""
      ]
     },
     "execution_count": 88,
     "metadata": {},
     "output_type": "execute_result"
    }
   ],
   "source": [
    "model.to_string(top_tokens)"
   ]
  },
  {
   "cell_type": "code",
   "execution_count": null,
   "id": "1392d013-f820-4802-8a0e-1e2247fc3c12",
   "metadata": {},
   "outputs": [],
   "source": []
  },
  {
   "cell_type": "code",
   "execution_count": null,
   "id": "df0a6e5f-d81b-4a9f-ab07-cf33a25de865",
   "metadata": {},
   "outputs": [],
   "source": []
  },
  {
   "cell_type": "code",
   "execution_count": null,
   "id": "e076604c-84e8-4620-ab03-f77d423e2ce1",
   "metadata": {},
   "outputs": [],
   "source": []
  }
 ],
 "metadata": {
  "kernelspec": {
   "display_name": "Python 3 (ipykernel)",
   "language": "python",
   "name": "python3"
  },
  "language_info": {
   "codemirror_mode": {
    "name": "ipython",
    "version": 3
   },
   "file_extension": ".py",
   "mimetype": "text/x-python",
   "name": "python",
   "nbconvert_exporter": "python",
   "pygments_lexer": "ipython3",
   "version": "3.10.13"
  }
 },
 "nbformat": 4,
 "nbformat_minor": 5
}
