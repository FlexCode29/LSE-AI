{
 "cells": [
  {
   "cell_type": "code",
   "execution_count": 398,
   "id": "1aaf05ac",
   "metadata": {},
   "outputs": [],
   "source": [
    "import os\n",
    "import sys\n",
    "import plotly.express as px\n",
    "import torch as t\n",
    "from torch import Tensor\n",
    "import torch.nn as nn\n",
    "import torch.nn.functional as F\n",
    "from pathlib import Path\n",
    "import numpy as np\n",
    "import einops\n",
    "from jaxtyping import Int, Float\n",
    "from typing import List, Optional, Tuple\n",
    "import functools\n",
    "from tqdm import tqdm\n",
    "from IPython.display import display\n",
    "import webbrowser\n",
    "import gdown\n",
    "from transformer_lens.hook_points import HookPoint\n",
    "from transformer_lens import utils, HookedTransformer, HookedTransformerConfig, FactoredMatrix, ActivationCache\n",
    "import circuitsvis as cv\n",
    "import json"
   ]
  },
  {
   "cell_type": "code",
   "execution_count": 399,
   "id": "14cc5f62-cd78-424c-b74e-97be6c1185e6",
   "metadata": {},
   "outputs": [],
   "source": [
    "def top_predictions(logits, n_tokens=10):\n",
    "    # Ensure logits is a numpy array for easy manipulation\n",
    "    logits = logits.detach().numpy()\n",
    "    \n",
    "    # Get the last set of logits if logits represents a sequence of predictions\n",
    "    next_token_logits = logits[0, -1] if logits.ndim > 1 else logits\n",
    "    \n",
    "    # Find the indices of the top n_tokens logits\n",
    "    top_tokens = np.argsort(next_token_logits)[-n_tokens:][::-1]\n",
    "    \n",
    "    # Extract the probabilities (or logits) of these top tokens\n",
    "    top_tokens_probs = next_token_logits[top_tokens]\n",
    "    \n",
    "    return top_tokens.tolist(), top_tokens_probs.tolist()"
   ]
  },
  {
   "cell_type": "code",
   "execution_count": 400,
   "id": "16dcdb4c",
   "metadata": {},
   "outputs": [
    {
     "name": "stdout",
     "output_type": "stream",
     "text": [
      "Loaded pretrained model gpt2 into HookedTransformer\n"
     ]
    }
   ],
   "source": [
    "model = HookedTransformer.from_pretrained(\"gpt2\")"
   ]
  },
  {
   "cell_type": "code",
   "execution_count": 412,
   "id": "6760d263-9cc4-4db1-8cce-675e24ea876b",
   "metadata": {},
   "outputs": [],
   "source": [
    "# Load all prompts for ICL\n",
    "prompts = json.load(open('LSE-AI/prompts.json'))"
   ]
  },
  {
   "cell_type": "code",
   "execution_count": 426,
   "id": "48eaf096-24c3-4fa7-bae5-fb4c581eb536",
   "metadata": {},
   "outputs": [],
   "source": [
    "results = {}\n",
    "x = 1\n",
    "y = 1\n",
    "icl_lenght = 11\n",
    "n = 50\n",
    "\n",
    "for i in range(n + 1):\n",
    "    if i % 2 == 0:\n",
    "        x += 1\n",
    "    else:\n",
    "        y += 1\n",
    "    results[i] = [x,y]"
   ]
  },
  {
   "cell_type": "code",
   "execution_count": 430,
   "id": "0d136c26-1274-43b8-ac5d-4a58ce290f91",
   "metadata": {},
   "outputs": [
    {
     "name": "stdout",
     "output_type": "stream",
     "text": [
      "[2, 1, 23, 23, 23, 23, 0]\n",
      "[2, 2, 24, 24, 0]\n",
      "[3, 2, 35, 34, 1]\n",
      "[3, 3, 36, 36, 0]\n",
      "[4, 3, 47, 46, 1]\n",
      "[4, 4, 48, 48, 0]\n",
      "[5, 4, 59, 56, 3]\n",
      "[5, 5, 60, 60, 0]\n",
      "[6, 5, 71, 69, 2]\n",
      "[6, 6, 72, 70, 2]\n",
      "[7, 6, 83, 79, 4]\n",
      "[7, 7, 84, 80, 4]\n",
      "[8, 7, 95, 99, -4]\n",
      "[8, 8, 96, 100, -4]\n",
      "[9, 8, 107, 100, 7]\n",
      "[9, 9, 108, 101, 7]\n",
      "[10, 9, 119, 112, 7]\n",
      "[10, 10, 120, 120, 0]\n",
      "[11, 10, 131, 124, 7]\n",
      "[11, 11, 132, 124, 8]\n",
      "[12, 11, 143, 138, 5]\n",
      "[12, 12, 144, 140, 4]\n",
      "[13, 12, 155, 164, -9]\n",
      "[13, 13, 156, 165, -9]\n",
      "[14, 13, 167, 175, -8]\n",
      "[14, 14, 168, 168, 0]\n",
      "[15, 14, 179, 176, 3]\n",
      "[15, 15, 180, 175, 5]\n",
      "[16, 15, 191, 195, -4]\n",
      "[16, 16, 192, 180, 12]\n",
      "[17, 16, 203, 191, 12]\n",
      "[17, 17, 204, 195, 9]\n",
      "[18, 17, 215, 199, 16]\n",
      "[18, 18, 216, 210, 6]\n",
      "[19, 18, 227, 216, 11]\n",
      "[19, 19, 228, 216, 12]\n",
      "[20, 19, 239, 229, 10]\n",
      "[20, 20, 240, 230, 10]\n",
      "[21, 20, 251, 236, 15]\n",
      "[21, 21, 252, 234, 18]\n",
      "[22, 21, 263, 249, 14]\n",
      "[22, 22, 264, 246, 18]\n",
      "[23, 22, 275, 265, 10]\n",
      "[23, 23, 276, 265, 11]\n",
      "[24, 23, 287, 273, 14]\n",
      "[24, 24, 288, 276, 12]\n",
      "[25, 24, 299, 277, 22]\n",
      "[25, 25, 300, 300, 0]\n",
      "[26, 25, 311, 295, 16]\n",
      "[26, 26, 312, 295, 17]\n",
      "[27, 26, 323, 299, 24]\n"
     ]
    }
   ],
   "source": [
    "i = 0\n",
    "for key in prompts:\n",
    "    \n",
    "    logits, loss = model(prompts[key], return_type=\"both\")\n",
    "    top_tokens, top_probs = top_predictions(logits)\n",
    "    top_prediction = model.tokenizer.batch_decode(top_tokens)[0]\n",
    "    \n",
    "    results[i].extend([int(key), int(top_prediction), int(key) - int(top_prediction)])\n",
    "\n",
    "    print(results[i])\n",
    "\n",
    "    i += 1"
   ]
  },
  {
   "cell_type": "code",
   "execution_count": 434,
   "id": "8cc5f345-bd75-4f3b-bd24-630c527d975a",
   "metadata": {},
   "outputs": [],
   "source": [
    "results[0] = [2, 1, 23, 23, 0]"
   ]
  },
  {
   "cell_type": "code",
   "execution_count": 435,
   "id": "812ee2a2-3d91-4feb-aec7-a053216da89e",
   "metadata": {},
   "outputs": [
    {
     "data": {
      "text/plain": [
       "{0: [2, 1, 23, 23, 0],\n",
       " 1: [2, 2, 24, 24, 0],\n",
       " 2: [3, 2, 35, 34, 1],\n",
       " 3: [3, 3, 36, 36, 0],\n",
       " 4: [4, 3, 47, 46, 1],\n",
       " 5: [4, 4, 48, 48, 0],\n",
       " 6: [5, 4, 59, 56, 3],\n",
       " 7: [5, 5, 60, 60, 0],\n",
       " 8: [6, 5, 71, 69, 2],\n",
       " 9: [6, 6, 72, 70, 2],\n",
       " 10: [7, 6, 83, 79, 4],\n",
       " 11: [7, 7, 84, 80, 4],\n",
       " 12: [8, 7, 95, 99, -4],\n",
       " 13: [8, 8, 96, 100, -4],\n",
       " 14: [9, 8, 107, 100, 7],\n",
       " 15: [9, 9, 108, 101, 7],\n",
       " 16: [10, 9, 119, 112, 7],\n",
       " 17: [10, 10, 120, 120, 0],\n",
       " 18: [11, 10, 131, 124, 7],\n",
       " 19: [11, 11, 132, 124, 8],\n",
       " 20: [12, 11, 143, 138, 5],\n",
       " 21: [12, 12, 144, 140, 4],\n",
       " 22: [13, 12, 155, 164, -9],\n",
       " 23: [13, 13, 156, 165, -9],\n",
       " 24: [14, 13, 167, 175, -8],\n",
       " 25: [14, 14, 168, 168, 0],\n",
       " 26: [15, 14, 179, 176, 3],\n",
       " 27: [15, 15, 180, 175, 5],\n",
       " 28: [16, 15, 191, 195, -4],\n",
       " 29: [16, 16, 192, 180, 12],\n",
       " 30: [17, 16, 203, 191, 12],\n",
       " 31: [17, 17, 204, 195, 9],\n",
       " 32: [18, 17, 215, 199, 16],\n",
       " 33: [18, 18, 216, 210, 6],\n",
       " 34: [19, 18, 227, 216, 11],\n",
       " 35: [19, 19, 228, 216, 12],\n",
       " 36: [20, 19, 239, 229, 10],\n",
       " 37: [20, 20, 240, 230, 10],\n",
       " 38: [21, 20, 251, 236, 15],\n",
       " 39: [21, 21, 252, 234, 18],\n",
       " 40: [22, 21, 263, 249, 14],\n",
       " 41: [22, 22, 264, 246, 18],\n",
       " 42: [23, 22, 275, 265, 10],\n",
       " 43: [23, 23, 276, 265, 11],\n",
       " 44: [24, 23, 287, 273, 14],\n",
       " 45: [24, 24, 288, 276, 12],\n",
       " 46: [25, 24, 299, 277, 22],\n",
       " 47: [25, 25, 300, 300, 0],\n",
       " 48: [26, 25, 311, 295, 16],\n",
       " 49: [26, 26, 312, 295, 17],\n",
       " 50: [27, 26, 323, 299, 24]}"
      ]
     },
     "execution_count": 435,
     "metadata": {},
     "output_type": "execute_result"
    }
   ],
   "source": [
    "results"
   ]
  },
  {
   "cell_type": "code",
   "execution_count": 436,
   "id": "a0de1b60-a56e-4a2b-802b-75dfb198c74c",
   "metadata": {},
   "outputs": [],
   "source": [
    "with open(\"LSE-AI/predictions.json\", \"w\") as file:\n",
    "    json.dump(results, file, indent=2)"
   ]
  },
  {
   "cell_type": "code",
   "execution_count": 382,
   "id": "17d691bb-12c4-4969-8b15-1286b46f6bf5",
   "metadata": {},
   "outputs": [
    {
     "name": "stdout",
     "output_type": "stream",
     "text": [
      "Model loss: tensor(0.9522, grad_fn=<NegBackward0>)\n"
     ]
    }
   ],
   "source": [
    " # Load an ICL sequence\n",
    "sequence = \"\"\"Input: 2, Output: 5\n",
    "Input: 3, Output: 7\n",
    "Input: 4, Output: 9\n",
    "Input: 5, Output: 11\n",
    "Input: 6, Output: 13\n",
    "Input: 7, Output: 15\n",
    "Input: 8, Output: 17\n",
    "Input: 9, Output: 19\n",
    "Input: 10, Output: 21\n",
    "Input: 11, Output:\"\"\"\n",
    "\n",
    "\n",
    "# Run the model and get logits and activations\n",
    "logits, loss = model(sequence, return_type=\"both\")\n",
    "print(\"Model loss:\", loss)"
   ]
  },
  {
   "cell_type": "code",
   "execution_count": 383,
   "id": "f3e2dc94",
   "metadata": {},
   "outputs": [
    {
     "data": {
      "text/plain": [
       "('logit diff: 0.7993278503417969',\n",
       " [' 23', ' 22', ' 24', ' 25', ' 26', ' 27', ' 28', ' 21', ' 29', ' 20'],\n",
       " [24.758773803710938,\n",
       "  23.95944595336914,\n",
       "  23.71446418762207,\n",
       "  23.343725204467773,\n",
       "  22.01938819885254,\n",
       "  21.71127700805664,\n",
       "  21.47074317932129,\n",
       "  21.109939575195312,\n",
       "  20.709959030151367,\n",
       "  19.77352523803711])"
      ]
     },
     "execution_count": 383,
     "metadata": {},
     "output_type": "execute_result"
    }
   ],
   "source": [
    "top_tokens, top_probs = top_predictions(logits)\n",
    "top_words = model.tokenizer.batch_decode(top_tokens)\n",
    "\n",
    "\n",
    "'logit diff: ' + str(top_probs[0] - top_probs[1]), top_words, top_probs"
   ]
  },
  {
   "cell_type": "code",
   "execution_count": 384,
   "id": "6daf0140-d445-4a34-bbcd-24a428a7c5e6",
   "metadata": {},
   "outputs": [
    {
     "data": {
      "image/png": "[encoded data removed]",
      "text/plain": [
       "<Figure size 1000x600 with 1 Axes>"
      ]
     },
     "metadata": {},
     "output_type": "display_data"
    }
   ],
   "source": [
    "import matplotlib.pyplot as plt\n",
    "plt.figure(figsize=(10, 6))\n",
    "plt.plot(top_words, top_probs, marker='o', linestyle='-', color='b')\n",
    "plt.title('Top Probabilities')\n",
    "plt.xlabel('Guess')\n",
    "plt.ylabel('Logit Probabilities')\n",
    "plt.grid(True)\n",
    "plt.show()"
   ]
  }
 ],
 "metadata": {
  "kernelspec": {
   "display_name": "Python 3 (ipykernel)",
   "language": "python",
   "name": "python3"
  },
  "language_info": {
   "codemirror_mode": {
    "name": "ipython",
    "version": 3
   },
   "file_extension": ".py",
   "mimetype": "text/x-python",
   "name": "python",
   "nbconvert_exporter": "python",
   "pygments_lexer": "ipython3",
   "version": "3.10.13"
  }
 },
 "nbformat": 4,
 "nbformat_minor": 5
}
